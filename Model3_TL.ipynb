{
  "nbformat": 4,
  "nbformat_minor": 0,
  "metadata": {
    "colab": {
      "provenance": [],
      "gpuType": "T4"
    },
    "kernelspec": {
      "name": "python3",
      "display_name": "Python 3"
    },
    "language_info": {
      "name": "python"
    },
    "accelerator": "GPU"
  },
  "cells": [
    {
      "cell_type": "markdown",
      "source": [
        "**Name:** Tarun Kumar Reddy </br>\n",
        "**School:** Computing and Data Science </br>\n",
        "**Email Address:** tarun.g-25@scds.saiuniversity.edu.in"
      ],
      "metadata": {
        "id": "tmC-FDp3jwwy"
      }
    },
    {
      "cell_type": "markdown",
      "source": [
        "## Importing Libraries"
      ],
      "metadata": {
        "id": "HjxeLoCKcUob"
      }
    },
    {
      "cell_type": "code",
      "execution_count": null,
      "metadata": {
        "id": "tIyvEuH-vBSo",
        "colab": {
          "base_uri": "https://localhost:8080/"
        },
        "outputId": "a9774c86-24cb-445f-ba98-2a7932076df2"
      },
      "outputs": [
        {
          "output_type": "stream",
          "name": "stdout",
          "text": [
            "2.15.0\n"
          ]
        }
      ],
      "source": [
        "import tensorflow as tf\n",
        "print(tf.__version__)\n",
        "\n",
        "from tensorflow import keras\n",
        "tf.random.set_seed(42)\n",
        "\n",
        "import numpy as np\n",
        "np.random.seed(42)\n",
        "\n",
        "import matplotlib.pyplot as plt\n",
        "%matplotlib inline\n",
        "\n",
        "import glob\n",
        "import PIL\n",
        "from PIL import Image"
      ]
    },
    {
      "cell_type": "markdown",
      "source": [
        "## Loading the Data\n",
        "Loading pre-processed data from the GDrive"
      ],
      "metadata": {
        "id": "WFWEUs9JcaOQ"
      }
    },
    {
      "cell_type": "code",
      "source": [
        "from numpy import load\n",
        "\n",
        "X_train_std = load('/content/drive/MyDrive/Deep_Learning_Final_Project/X_train_std.npy')\n",
        "X_test_std = load('/content/drive/MyDrive/Deep_Learning_Final_Project/X_test_std.npy')\n",
        "y_train = load('/content/drive/MyDrive/Deep_Learning_Final_Project/y_train.npy')\n",
        "y_test = load('/content/drive/MyDrive/Deep_Learning_Final_Project/y_test.npy')"
      ],
      "metadata": {
        "id": "tNYk6pjVsERD"
      },
      "execution_count": null,
      "outputs": []
    },
    {
      "cell_type": "markdown",
      "source": [
        "Loading the DenseNet201 model and taking only the feature extractor"
      ],
      "metadata": {
        "id": "4d-xfAqRgkGc"
      }
    },
    {
      "cell_type": "code",
      "source": [
        "print(\"X_train_std_shape: {}\".format(X_train_std.shape))\n",
        "print(\"X_test_std_shape: {}\".format(X_test_std.shape))"
      ],
      "metadata": {
        "id": "VAgjzNvYEOGS",
        "colab": {
          "base_uri": "https://localhost:8080/"
        },
        "outputId": "10bd6ab1-d8b3-4e93-f297-4564600d2f4b"
      },
      "execution_count": null,
      "outputs": [
        {
          "output_type": "stream",
          "name": "stdout",
          "text": [
            "X_train_std_shape: (378, 299, 299, 3)\n",
            "X_test_std_shape: (127, 299, 299, 3)\n"
          ]
        }
      ]
    },
    {
      "cell_type": "code",
      "source": [
        "model3_TL = keras.applications.ConvNeXtTiny(weights='imagenet',\n",
        "                                                  include_top=False)\n",
        "\n",
        "# Visualize the extractor part for transfer learning\n",
        "tf.keras.utils.plot_model(\n",
        "    model3_TL,\n",
        "    to_file='model3_TL.png',\n",
        "    show_shapes=False,\n",
        "    show_layer_names=False,\n",
        "    rankdir='TB',\n",
        "    expand_nested=False,\n",
        "    dpi=96\n",
        ")"
      ],
      "metadata": {
        "id": "oMJnee43psAG"
      },
      "execution_count": null,
      "outputs": []
    },
    {
      "cell_type": "markdown",
      "source": [
        "Freezing the weights of the feature extractor"
      ],
      "metadata": {
        "id": "2Xr4_GE5L01t"
      }
    },
    {
      "cell_type": "code",
      "source": [
        "# Weights will not be updated during backpropagation\n",
        "for layer in model3_TL.layers:\n",
        "  layer.trainabe = False"
      ],
      "metadata": {
        "id": "X2sgFjSYqOhI"
      },
      "execution_count": null,
      "outputs": []
    },
    {
      "cell_type": "markdown",
      "source": [
        "Adding a Classifier"
      ],
      "metadata": {
        "id": "-PH0vYX2OIKF"
      }
    },
    {
      "cell_type": "code",
      "source": [
        "# Adding classifier\n",
        "\n",
        "global_pool = keras.layers.GlobalAveragePooling2D()(model3_TL.output)\n",
        "x = keras.layers.Dropout(rate = 0.15)(global_pool)\n",
        "output_ = keras.layers.Dense(units=4, activation='softmax')(x)\n",
        "\n",
        "model3_TL = keras.models.Model(inputs=[model3_TL.input], outputs=[output_])\n",
        "\n",
        "# Visualize the complete model\n",
        "tf.keras.utils.plot_model(\n",
        "    model3_TL,\n",
        "    to_file='Model_TL.png',\n",
        "    show_shapes=False,\n",
        "    show_layer_names=False,\n",
        "    rankdir='LR',\n",
        "    expand_nested=False,\n",
        "    dpi=96\n",
        ")"
      ],
      "metadata": {
        "id": "VsshNubmqTWR"
      },
      "execution_count": null,
      "outputs": []
    },
    {
      "cell_type": "code",
      "source": [
        "model3_TL.compile(loss='sparse_categorical_crossentropy',\n",
        "                 optimizer='adam',\n",
        "                 metrics=['accuracy'])\n",
        "\n",
        "callbacks_model3_TL = [\n",
        "             keras.callbacks.ModelCheckpoint(\"model3_TL.h5\",\n",
        "                                             monitor='val_accuracy',\n",
        "                                             save_weights_only=True,\n",
        "                                             save_best_only=True)]\n",
        "\n",
        "history_TL = model3_TL.fit(x = X_train_std, y = y_train, epochs=20,\n",
        "                          validation_split=0.1, batch_size=32, callbacks=callbacks_model3_TL)"
      ],
      "metadata": {
        "id": "co-QDkp5qZDv",
        "colab": {
          "base_uri": "https://localhost:8080/"
        },
        "outputId": "df2f12b3-c778-4892-8cbc-36c9f60f6129"
      },
      "execution_count": null,
      "outputs": [
        {
          "output_type": "stream",
          "name": "stdout",
          "text": [
            "Epoch 1/20\n",
            "11/11 [==============================] - 71s 2s/step - loss: 2.0445 - accuracy: 0.2676 - val_loss: 1.4539 - val_accuracy: 0.3158\n",
            "Epoch 2/20\n",
            "11/11 [==============================] - 12s 1s/step - loss: 1.5365 - accuracy: 0.2912 - val_loss: 1.6114 - val_accuracy: 0.3158\n",
            "Epoch 3/20\n",
            "11/11 [==============================] - 12s 1s/step - loss: 1.5196 - accuracy: 0.2735 - val_loss: 1.4743 - val_accuracy: 0.3158\n",
            "Epoch 4/20\n",
            "11/11 [==============================] - 12s 1s/step - loss: 1.4611 - accuracy: 0.3206 - val_loss: 1.4127 - val_accuracy: 0.3158\n",
            "Epoch 5/20\n",
            "11/11 [==============================] - 12s 1s/step - loss: 1.4493 - accuracy: 0.3029 - val_loss: 1.5540 - val_accuracy: 0.3158\n",
            "Epoch 6/20\n",
            "11/11 [==============================] - 12s 1s/step - loss: 1.5276 - accuracy: 0.3000 - val_loss: 1.6611 - val_accuracy: 0.3158\n",
            "Epoch 7/20\n",
            "11/11 [==============================] - 12s 1s/step - loss: 1.5143 - accuracy: 0.2676 - val_loss: 1.3979 - val_accuracy: 0.3158\n",
            "Epoch 8/20\n",
            "11/11 [==============================] - 12s 1s/step - loss: 1.4521 - accuracy: 0.3588 - val_loss: 1.4044 - val_accuracy: 0.3158\n",
            "Epoch 9/20\n",
            "11/11 [==============================] - 12s 1s/step - loss: 1.3939 - accuracy: 0.2794 - val_loss: 1.3785 - val_accuracy: 0.3158\n",
            "Epoch 10/20\n",
            "11/11 [==============================] - 12s 1s/step - loss: 1.4076 - accuracy: 0.3500 - val_loss: 1.4233 - val_accuracy: 0.3158\n",
            "Epoch 11/20\n",
            "11/11 [==============================] - 12s 1s/step - loss: 1.3717 - accuracy: 0.3500 - val_loss: 1.3627 - val_accuracy: 0.3158\n",
            "Epoch 12/20\n",
            "11/11 [==============================] - 12s 1s/step - loss: 1.3551 - accuracy: 0.3559 - val_loss: 1.4500 - val_accuracy: 0.3158\n",
            "Epoch 13/20\n",
            "11/11 [==============================] - 12s 1s/step - loss: 1.3717 - accuracy: 0.3500 - val_loss: 1.4210 - val_accuracy: 0.1579\n",
            "Epoch 14/20\n",
            "11/11 [==============================] - 12s 1s/step - loss: 1.3738 - accuracy: 0.3176 - val_loss: 1.3785 - val_accuracy: 0.3158\n",
            "Epoch 15/20\n",
            "11/11 [==============================] - 12s 1s/step - loss: 1.3788 - accuracy: 0.3706 - val_loss: 1.4082 - val_accuracy: 0.3158\n",
            "Epoch 16/20\n",
            "11/11 [==============================] - 12s 1s/step - loss: 1.3861 - accuracy: 0.3235 - val_loss: 1.3881 - val_accuracy: 0.3158\n",
            "Epoch 17/20\n",
            "11/11 [==============================] - 12s 1s/step - loss: 1.3642 - accuracy: 0.3529 - val_loss: 1.3632 - val_accuracy: 0.3158\n",
            "Epoch 18/20\n",
            "11/11 [==============================] - 12s 1s/step - loss: 1.3600 - accuracy: 0.3647 - val_loss: 1.4027 - val_accuracy: 0.3158\n",
            "Epoch 19/20\n",
            "11/11 [==============================] - 12s 1s/step - loss: 1.3651 - accuracy: 0.3265 - val_loss: 1.3850 - val_accuracy: 0.3158\n",
            "Epoch 20/20\n",
            "11/11 [==============================] - 12s 1s/step - loss: 1.3578 - accuracy: 0.3676 - val_loss: 1.4106 - val_accuracy: 0.3158\n"
          ]
        }
      ]
    },
    {
      "cell_type": "code",
      "source": [
        "keys = ['accuracy', 'val_accuracy']\n",
        "progress = {k:v for k,v in history_TL.history.items() if k in keys}\n",
        "\n",
        "import pandas as pd\n",
        "pd.DataFrame(progress).plot()\n",
        "\n",
        "plt.xlabel(\"epochs\")\n",
        "plt.ylabel(\"accuracy\")\n",
        "\n",
        "plt.grid(True)\n",
        "plt.show()"
      ],
      "metadata": {
        "id": "dNODZGTalUvF",
        "colab": {
          "base_uri": "https://localhost:8080/",
          "height": 449
        },
        "outputId": "e36203aa-a3b8-4917-efb4-cbebe34c50f0"
      },
      "execution_count": null,
      "outputs": [
        {
          "output_type": "display_data",
          "data": {
            "text/plain": [
              "<Figure size 640x480 with 1 Axes>"
            ],
            "image/png": "[encoded data removed]"
          },
          "metadata": {}
        }
      ]
    },
    {
      "cell_type": "markdown",
      "source": [
        "Loading the best weights"
      ],
      "metadata": {
        "id": "ehN4Z9dsOYPE"
      }
    },
    {
      "cell_type": "code",
      "source": [
        "model3_TL.load_weights(\"model3_TL.h5\")\n",
        "testLoss_model21 , testAccuracy_model21 = model3_TL.evaluate(x = X_test_std, y = y_test)\n",
        "print(\"Test-loss: %f, Test-accuracy: %f\" % (testLoss_model21, testAccuracy_model21))"
      ],
      "metadata": {
        "id": "eRIsRHTlrCbH",
        "colab": {
          "base_uri": "https://localhost:8080/"
        },
        "outputId": "a59e9a2d-d66b-4dc2-b124-b4ea96d73c42"
      },
      "execution_count": null,
      "outputs": [
        {
          "output_type": "stream",
          "name": "stdout",
          "text": [
            "4/4 [==============================] - 5s 1s/step - loss: 1.4335 - accuracy: 0.3701\n",
            "Test-loss: 1.433490, Test-accuracy: 0.370079\n"
          ]
        }
      ]
    },
    {
      "cell_type": "code",
      "source": [
        "cProba = model3_TL.predict(X_test_std[:1])\n",
        "print(cProba)"
      ],
      "metadata": {
        "id": "cfaIC9UP9vj2",
        "colab": {
          "base_uri": "https://localhost:8080/"
        },
        "outputId": "f0e75927-b7dd-4ee9-be53-d4e477a91132"
      },
      "execution_count": null,
      "outputs": [
        {
          "output_type": "stream",
          "name": "stdout",
          "text": [
            "1/1 [==============================] - 5s 5s/step\n",
            "[[0.27874765 0.13948631 0.28940055 0.29236546]]\n"
          ]
        }
      ]
    },
    {
      "cell_type": "code",
      "source": [
        "y_test[:1]"
      ],
      "metadata": {
        "id": "1wfpVZ1p-XW3",
        "colab": {
          "base_uri": "https://localhost:8080/"
        },
        "outputId": "231dc603-e3e4-4816-9226-37b774b47776"
      },
      "execution_count": null,
      "outputs": [
        {
          "output_type": "execute_result",
          "data": {
            "text/plain": [
              "array([3])"
            ]
          },
          "metadata": {},
          "execution_count": 12
        }
      ]
    },
    {
      "cell_type": "code",
      "source": [
        "cLabel = np.argmax(cProba, axis=-1)\n",
        "print(cLabel)"
      ],
      "metadata": {
        "id": "0VVXWozH-NbN",
        "colab": {
          "base_uri": "https://localhost:8080/"
        },
        "outputId": "2220b07b-01c9-4c9b-e5bb-74efa670877b"
      },
      "execution_count": null,
      "outputs": [
        {
          "output_type": "stream",
          "name": "stdout",
          "text": [
            "[3]\n"
          ]
        }
      ]
    },
    {
      "cell_type": "code",
      "source": [
        "model3_TL.save(\"/content/drive/MyDrive/Deep_Learning_Final_Project/model3_TL.h5\")"
      ],
      "metadata": {
        "id": "3wSuJ_AsWKhf",
        "colab": {
          "base_uri": "https://localhost:8080/"
        },
        "outputId": "6834dfa4-2140-412c-c6be-edc677612719"
      },
      "execution_count": null,
      "outputs": [
        {
          "output_type": "stream",
          "name": "stderr",
          "text": [
            "/usr/local/lib/python3.10/dist-packages/keras/src/engine/training.py:3103: UserWarning: You are saving your model as an HDF5 file via `model.save()`. This file format is considered legacy. We recommend using instead the native Keras format, e.g. `model.save('my_model.keras')`.\n",
            "  saving_api.save_model(\n"
          ]
        }
      ]
    },
    {
      "cell_type": "code",
      "source": [
        "model2_TL = keras.models.load_model('/content/drive/MyDrive/Deep_Learning_Final_Project/model2_TL.h5')"
      ],
      "metadata": {
        "id": "fNgxSljcQSAZ"
      },
      "execution_count": null,
      "outputs": []
    },
    {
      "cell_type": "code",
      "source": [
        "from sklearn import metrics\n",
        "predicted = model2_TL.predict(X_test_std)\n",
        "predicted_class = np.argmax(predicted, axis=1)\n",
        "\n",
        "print(\"Classification report for classifier %s:\\n%s\\n\"\n",
        "% (model2_TL, metrics.classification_report(y_test, predicted_class)))\n",
        "from sklearn.metrics import confusion_matrix\n",
        "from sklearn.metrics import ConfusionMatrixDisplay\n",
        "confMatrix = confusion_matrix(y_true = y_test, y_pred = predicted_class)\n",
        "disp = ConfusionMatrixDisplay(confusion_matrix = confMatrix)\n",
        "disp.plot()\n",
        "plt.show()"
      ],
      "metadata": {
        "colab": {
          "base_uri": "https://localhost:8080/",
          "height": 692
        },
        "id": "8S9QIJXfQjwP",
        "outputId": "28758887-733c-4138-d230-840bf0ed3737"
      },
      "execution_count": null,
      "outputs": [
        {
          "output_type": "stream",
          "name": "stdout",
          "text": [
            "4/4 [==============================] - 26s 4s/step\n",
            "Classification report for classifier <keras.src.engine.functional.Functional object at 0x7828af202020>:\n",
            "              precision    recall  f1-score   support\n",
            "\n",
            "           0       0.58      0.58      0.58        26\n",
            "           1       0.60      0.18      0.28        33\n",
            "           2       0.60      0.86      0.71        21\n",
            "           3       0.69      0.89      0.78        47\n",
            "\n",
            "    accuracy                           0.64       127\n",
            "   macro avg       0.62      0.63      0.58       127\n",
            "weighted avg       0.63      0.64      0.60       127\n",
            "\n",
            "\n"
          ]
        },
        {
          "output_type": "display_data",
          "data": {
            "text/plain": [
              "<Figure size 640x480 with 2 Axes>"
            ],
            "image/png": "[encoded data removed]"
          },
          "metadata": {}
        }
      ]
    }
  ]
}