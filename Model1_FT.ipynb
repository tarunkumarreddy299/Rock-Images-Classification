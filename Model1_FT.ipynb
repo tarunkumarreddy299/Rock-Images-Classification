{
  "nbformat": 4,
  "nbformat_minor": 0,
  "metadata": {
    "colab": {
      "provenance": [],
      "gpuType": "T4"
    },
    "kernelspec": {
      "name": "python3",
      "display_name": "Python 3"
    },
    "language_info": {
      "name": "python"
    },
    "accelerator": "GPU"
  },
  "cells": [
    {
      "cell_type": "markdown",
      "source": [
        "**Name:** Tarun Kumar Reddy </br>\n",
        "**School:** Computing and Data Science </br>\n",
        "**Email Address:** tarun.g-25@scds.saiuniversity.edu.in"
      ],
      "metadata": {
        "id": "tmC-FDp3jwwy"
      }
    },
    {
      "cell_type": "markdown",
      "source": [
        "## Importing Libraries"
      ],
      "metadata": {
        "id": "HjxeLoCKcUob"
      }
    },
    {
      "cell_type": "code",
      "execution_count": null,
      "metadata": {
        "id": "tIyvEuH-vBSo",
        "colab": {
          "base_uri": "https://localhost:8080/"
        },
        "outputId": "3619ade2-5de4-4c54-8d38-af73dfb602b5"
      },
      "outputs": [
        {
          "output_type": "stream",
          "name": "stdout",
          "text": [
            "2.15.0\n"
          ]
        }
      ],
      "source": [
        "import tensorflow as tf\n",
        "print(tf.__version__)\n",
        "\n",
        "from tensorflow import keras\n",
        "tf.random.set_seed(42)\n",
        "\n",
        "import numpy as np\n",
        "np.random.seed(42)\n",
        "\n",
        "import matplotlib.pyplot as plt\n",
        "%matplotlib inline\n",
        "\n",
        "import glob\n",
        "import PIL\n",
        "from PIL import Image"
      ]
    },
    {
      "cell_type": "markdown",
      "source": [
        "## Loading the Data\n",
        "Loading pre-processed data from the GDrive"
      ],
      "metadata": {
        "id": "WFWEUs9JcaOQ"
      }
    },
    {
      "cell_type": "code",
      "source": [
        "from numpy import load\n",
        "\n",
        "X_train_std = load('/content/drive/MyDrive/Deep_Learning_Final_Project/X_train_std.npy')\n",
        "X_test_std = load('/content/drive/MyDrive/Deep_Learning_Final_Project/X_test_std.npy')\n",
        "y_train = load('/content/drive/MyDrive/Deep_Learning_Final_Project/y_train.npy')\n",
        "y_test = load('/content/drive/MyDrive/Deep_Learning_Final_Project/y_test.npy')"
      ],
      "metadata": {
        "id": "tNYk6pjVsERD"
      },
      "execution_count": null,
      "outputs": []
    },
    {
      "cell_type": "code",
      "source": [
        "print(\"X_train_std_shape: {}\".format(X_train_std.shape))\n",
        "print(\"X_test_std_shape: {}\".format(X_test_std.shape))"
      ],
      "metadata": {
        "colab": {
          "base_uri": "https://localhost:8080/"
        },
        "id": "VAgjzNvYEOGS",
        "outputId": "cb879dec-edc5-4c48-e8cd-d85b5a33dea6"
      },
      "execution_count": null,
      "outputs": [
        {
          "output_type": "stream",
          "name": "stdout",
          "text": [
            "X_train_std_shape: (378, 299, 299, 3)\n",
            "X_test_std_shape: (127, 299, 299, 3)\n"
          ]
        }
      ]
    },
    {
      "cell_type": "markdown",
      "source": [
        "## Loading the best TL model"
      ],
      "metadata": {
        "id": "gIfu4qwJczwn"
      }
    },
    {
      "cell_type": "code",
      "source": [
        "model1_FT = keras.models.load_model('/content/drive/MyDrive/Deep_Learning_Final_Project/model1_TL.h5')"
      ],
      "metadata": {
        "id": "zUvIQc8Tpo3B"
      },
      "execution_count": null,
      "outputs": []
    },
    {
      "cell_type": "code",
      "source": [
        "len(model1_FT.layers)"
      ],
      "metadata": {
        "colab": {
          "base_uri": "https://localhost:8080/"
        },
        "id": "PHbLUz-Au7eL",
        "outputId": "b85d3848-cccc-49a6-921d-039d7fd9455b"
      },
      "execution_count": null,
      "outputs": [
        {
          "output_type": "execute_result",
          "data": {
            "text/plain": [
              "784"
            ]
          },
          "metadata": {},
          "execution_count": 5
        }
      ]
    },
    {
      "cell_type": "code",
      "source": [
        "784 * 0.25"
      ],
      "metadata": {
        "colab": {
          "base_uri": "https://localhost:8080/"
        },
        "id": "aQM1M8Bccfws",
        "outputId": "e62333d3-8c70-4920-dd4b-83e242ea52b3"
      },
      "execution_count": null,
      "outputs": [
        {
          "output_type": "execute_result",
          "data": {
            "text/plain": [
              "196.0"
            ]
          },
          "metadata": {},
          "execution_count": 6
        }
      ]
    },
    {
      "cell_type": "code",
      "source": [
        "# Fine-tune the model from index 196(25%) onwards\n",
        "\n",
        "for layer in model1_FT.layers[:195]:\n",
        "  layer.trainable = False\n",
        "\n",
        "for layer in model1_FT.layers[195:]:\n",
        "  layer.trainable = True"
      ],
      "metadata": {
        "id": "X2sgFjSYqOhI"
      },
      "execution_count": null,
      "outputs": []
    },
    {
      "cell_type": "markdown",
      "source": [
        "## Training the model"
      ],
      "metadata": {
        "id": "AI2jgYnKVDS7"
      }
    },
    {
      "cell_type": "code",
      "source": [
        "model1_FT.compile(loss='sparse_categorical_crossentropy',\n",
        "                 optimizer='adam',\n",
        "                 metrics=['accuracy'])\n",
        "\n",
        "callbacks_FT = [\n",
        "             keras.callbacks.ModelCheckpoint(\"model1FT.h5\",\n",
        "                                             monitor='val_accuracy',\n",
        "                                             save_weights_only=True,\n",
        "                                             save_best_only=True)]\n",
        "\n",
        "history_TL = model1_FT.fit(x = X_train_std, y = y_train, epochs=20,\n",
        "                          validation_split=0.1, batch_size=32, callbacks=callbacks_FT)"
      ],
      "metadata": {
        "colab": {
          "base_uri": "https://localhost:8080/"
        },
        "id": "co-QDkp5qZDv",
        "outputId": "eb4ab9a1-dc13-4559-90e9-0d28f2bb9f70"
      },
      "execution_count": null,
      "outputs": [
        {
          "output_type": "stream",
          "name": "stdout",
          "text": [
            "Epoch 1/20\n",
            "11/11 [==============================] - 108s 2s/step - loss: 0.4033 - accuracy: 0.8971 - val_loss: 8070274.5000 - val_accuracy: 0.3158\n",
            "Epoch 2/20\n",
            "11/11 [==============================] - 9s 808ms/step - loss: 0.2464 - accuracy: 0.9088 - val_loss: 195845248.0000 - val_accuracy: 0.2895\n",
            "Epoch 3/20\n",
            "11/11 [==============================] - 9s 822ms/step - loss: 0.1705 - accuracy: 0.9500 - val_loss: 1283556352.0000 - val_accuracy: 0.2895\n",
            "Epoch 4/20\n",
            "11/11 [==============================] - 9s 786ms/step - loss: 0.0842 - accuracy: 0.9618 - val_loss: 123299352.0000 - val_accuracy: 0.2368\n",
            "Epoch 5/20\n",
            "11/11 [==============================] - 9s 817ms/step - loss: 0.2180 - accuracy: 0.9529 - val_loss: 5356563.0000 - val_accuracy: 0.3158\n",
            "Epoch 6/20\n",
            "11/11 [==============================] - 11s 992ms/step - loss: 0.1237 - accuracy: 0.9647 - val_loss: 238097.8438 - val_accuracy: 0.3421\n",
            "Epoch 7/20\n",
            "11/11 [==============================] - 10s 923ms/step - loss: 0.1305 - accuracy: 0.9559 - val_loss: 4723.4287 - val_accuracy: 0.7368\n",
            "Epoch 8/20\n",
            "11/11 [==============================] - 9s 807ms/step - loss: 0.0290 - accuracy: 0.9912 - val_loss: 89.1937 - val_accuracy: 0.6842\n",
            "Epoch 9/20\n",
            "11/11 [==============================] - 11s 1s/step - loss: 0.0522 - accuracy: 0.9794 - val_loss: 0.6749 - val_accuracy: 0.7895\n",
            "Epoch 10/20\n",
            "11/11 [==============================] - 9s 796ms/step - loss: 0.0317 - accuracy: 0.9882 - val_loss: 0.8163 - val_accuracy: 0.6316\n",
            "Epoch 11/20\n",
            "11/11 [==============================] - 9s 832ms/step - loss: 0.0412 - accuracy: 0.9794 - val_loss: 0.7890 - val_accuracy: 0.6579\n",
            "Epoch 12/20\n",
            "11/11 [==============================] - 9s 804ms/step - loss: 0.0381 - accuracy: 0.9853 - val_loss: 0.7762 - val_accuracy: 0.7368\n",
            "Epoch 13/20\n",
            "11/11 [==============================] - 9s 831ms/step - loss: 0.0380 - accuracy: 0.9853 - val_loss: 0.7602 - val_accuracy: 0.6842\n",
            "Epoch 14/20\n",
            "11/11 [==============================] - 11s 1s/step - loss: 0.0660 - accuracy: 0.9794 - val_loss: 0.5627 - val_accuracy: 0.8421\n",
            "Epoch 15/20\n",
            "11/11 [==============================] - 9s 806ms/step - loss: 0.0157 - accuracy: 0.9941 - val_loss: 0.7070 - val_accuracy: 0.6842\n",
            "Epoch 16/20\n",
            "11/11 [==============================] - 9s 813ms/step - loss: 0.0159 - accuracy: 0.9971 - val_loss: 0.4464 - val_accuracy: 0.8158\n",
            "Epoch 17/20\n",
            "11/11 [==============================] - 9s 819ms/step - loss: 0.2236 - accuracy: 0.9765 - val_loss: 264.2036 - val_accuracy: 0.5526\n",
            "Epoch 18/20\n",
            "11/11 [==============================] - 9s 836ms/step - loss: 0.5464 - accuracy: 0.9647 - val_loss: 228.5591 - val_accuracy: 0.4211\n",
            "Epoch 19/20\n",
            "11/11 [==============================] - 9s 819ms/step - loss: 0.1319 - accuracy: 0.9765 - val_loss: 211118.8594 - val_accuracy: 0.2632\n",
            "Epoch 20/20\n",
            "11/11 [==============================] - 9s 812ms/step - loss: 0.1690 - accuracy: 0.9882 - val_loss: 110196.6641 - val_accuracy: 0.2632\n"
          ]
        }
      ]
    },
    {
      "cell_type": "code",
      "source": [
        "keys = ['accuracy', 'val_accuracy']\n",
        "progress = {k:v for k,v in history_TL.history.items() if k in keys}\n",
        "\n",
        "import pandas as pd\n",
        "pd.DataFrame(progress).plot()\n",
        "\n",
        "plt.xlabel(\"epochs\")\n",
        "plt.ylabel(\"accuracy\")\n",
        "\n",
        "plt.grid(True)\n",
        "plt.show()"
      ],
      "metadata": {
        "colab": {
          "base_uri": "https://localhost:8080/",
          "height": 449
        },
        "id": "nRn8k1t7qgMv",
        "outputId": "42faa7d3-4c9d-4e71-d133-8ec31f767860"
      },
      "execution_count": null,
      "outputs": [
        {
          "output_type": "display_data",
          "data": {
            "text/plain": [
              "<Figure size 640x480 with 1 Axes>"
            ],
            "image/png": "[encoded data removed]"
          },
          "metadata": {}
        }
      ]
    },
    {
      "cell_type": "code",
      "source": [
        "model1_FT.load_weights(\"model1FT.h5\")\n",
        "testLoss_model12 , testAccuracy_model12 = model1_FT.evaluate(x = X_test_std, y = y_test)\n",
        "print(\"Test-loss: %f, Test-accuracy: %f\" % (testLoss_model12, testAccuracy_model12))"
      ],
      "metadata": {
        "id": "eRIsRHTlrCbH",
        "colab": {
          "base_uri": "https://localhost:8080/"
        },
        "outputId": "4be0c5d2-1046-4739-ff4b-1e9eeab078b8"
      },
      "execution_count": null,
      "outputs": [
        {
          "output_type": "stream",
          "name": "stdout",
          "text": [
            "4/4 [==============================] - 6s 2s/step - loss: 0.6290 - accuracy: 0.7795\n",
            "Test-loss: 0.629013, Test-accuracy: 0.779528\n"
          ]
        }
      ]
    },
    {
      "cell_type": "code",
      "source": [
        "cProba = model1_FT.predict(X_test_std[:3])\n",
        "print(cProba)"
      ],
      "metadata": {
        "colab": {
          "base_uri": "https://localhost:8080/"
        },
        "id": "cfaIC9UP9vj2",
        "outputId": "36bdd972-8147-48eb-a3d8-2f996e2506db"
      },
      "execution_count": null,
      "outputs": [
        {
          "output_type": "stream",
          "name": "stdout",
          "text": [
            "1/1 [==============================] - 0s 62ms/step\n",
            "[[0.4674788  0.41564947 0.06093007 0.05594166]]\n"
          ]
        }
      ]
    },
    {
      "cell_type": "code",
      "source": [
        "y_test[3]"
      ],
      "metadata": {
        "colab": {
          "base_uri": "https://localhost:8080/"
        },
        "id": "1wfpVZ1p-XW3",
        "outputId": "285ed0d1-da9e-4362-8193-dfcf295182d9"
      },
      "execution_count": null,
      "outputs": [
        {
          "output_type": "execute_result",
          "data": {
            "text/plain": [
              "1"
            ]
          },
          "metadata": {},
          "execution_count": 17
        }
      ]
    },
    {
      "cell_type": "code",
      "source": [
        "np.argmax(cProba)"
      ],
      "metadata": {
        "colab": {
          "base_uri": "https://localhost:8080/"
        },
        "id": "b-apUE1N0Ojc",
        "outputId": "ed0ed8d3-7b1f-4bf5-f738-3030ec8c84f2"
      },
      "execution_count": null,
      "outputs": [
        {
          "output_type": "execute_result",
          "data": {
            "text/plain": [
              "0"
            ]
          },
          "metadata": {},
          "execution_count": 18
        }
      ]
    },
    {
      "cell_type": "code",
      "source": [
        "model1_FT.save(\"/content/drive/MyDrive/Deep_Learning_Final_Project/model1_FT.h5\")"
      ],
      "metadata": {
        "colab": {
          "base_uri": "https://localhost:8080/"
        },
        "id": "L6VfmGcioVfd",
        "outputId": "19129ef3-d7e8-49cb-e3cf-f2b829608f7d"
      },
      "execution_count": null,
      "outputs": [
        {
          "output_type": "stream",
          "name": "stderr",
          "text": [
            "/usr/local/lib/python3.10/dist-packages/keras/src/engine/training.py:3103: UserWarning: You are saving your model as an HDF5 file via `model.save()`. This file format is considered legacy. We recommend using instead the native Keras format, e.g. `model.save('my_model.keras')`.\n",
            "  saving_api.save_model(\n"
          ]
        }
      ]
    },
    {
      "cell_type": "code",
      "source": [
        "model1_FT = keras.models.load_model('/content/drive/MyDrive/Deep_Learning_Final_Project/model1_FT.h5')"
      ],
      "metadata": {
        "id": "jo7CbLwpUf6M"
      },
      "execution_count": null,
      "outputs": []
    },
    {
      "cell_type": "code",
      "source": [
        "from sklearn import metrics\n",
        "predicted = model1_FT.predict(X_test_std)\n",
        "predicted_class = np.argmax(predicted, axis=1)\n",
        "\n",
        "print(\"Classification report for classifier %s:\\n%s\\n\"\n",
        "% (model1_FT, metrics.classification_report(y_test, predicted_class)))\n",
        "from sklearn.metrics import confusion_matrix\n",
        "from sklearn.metrics import ConfusionMatrixDisplay\n",
        "confMatrix = confusion_matrix(y_true = y_test, y_pred = predicted_class)\n",
        "disp = ConfusionMatrixDisplay(confusion_matrix = confMatrix)\n",
        "disp.plot()\n",
        "plt.show()"
      ],
      "metadata": {
        "colab": {
          "base_uri": "https://localhost:8080/",
          "height": 692
        },
        "id": "rVCOJCo7UwQF",
        "outputId": "1613d90b-ba46-4b6e-ea08-94ec396b3f77"
      },
      "execution_count": null,
      "outputs": [
        {
          "output_type": "stream",
          "name": "stdout",
          "text": [
            "4/4 [==============================] - 19s 2s/step\n",
            "Classification report for classifier <keras.src.engine.functional.Functional object at 0x7e193816ffd0>:\n",
            "              precision    recall  f1-score   support\n",
            "\n",
            "           0       0.68      0.65      0.67        26\n",
            "           1       0.69      0.82      0.75        33\n",
            "           2       0.86      0.57      0.69        21\n",
            "           3       0.88      0.91      0.90        47\n",
            "\n",
            "    accuracy                           0.78       127\n",
            "   macro avg       0.78      0.74      0.75       127\n",
            "weighted avg       0.79      0.78      0.78       127\n",
            "\n",
            "\n"
          ]
        },
        {
          "output_type": "display_data",
          "data": {
            "text/plain": [
              "<Figure size 640x480 with 2 Axes>"
            ],
            "image/png": "[encoded data removed]"
          },
          "metadata": {}
        }
      ]
    }
  ]
}